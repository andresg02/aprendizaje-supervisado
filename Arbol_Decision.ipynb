{
 "cells": [
  {
   "cell_type": "code",
   "execution_count": 1,
   "id": "af18c90f",
   "metadata": {},
   "outputs": [],
   "source": [
    "#Se importan las bibliotecas necesarias \n",
    "import pandas as pd \n",
    "from sklearn.tree import DecisionTreeClassifier \n",
    "from sklearn.model_selection import train_test_split"
   ]
  },
  {
   "cell_type": "code",
   "execution_count": 2,
   "id": "7d49c255",
   "metadata": {},
   "outputs": [],
   "source": [
    "#Procedemos a cargar el conjunto de datos con el que vamos a trabajar \n",
    "covid=pd.read_csv(\"../USUARIO/ETAPA4/covid.csv\")"
   ]
  },
  {
   "cell_type": "code",
   "execution_count": 3,
   "id": "dec771ef",
   "metadata": {},
   "outputs": [],
   "source": [
    "#Se eliminan los que tengan valores faltantes\n",
    "covid.dropna(inplace=True)"
   ]
  },
  {
   "cell_type": "code",
   "execution_count": 4,
   "id": "2d46309d",
   "metadata": {},
   "outputs": [],
   "source": [
    "#Seleccionamos la columna correspondiente a caracteristicas y la columna correspondiente a las etiquetas\n",
    "x=covid.iloc[:,:-1]\n",
    "y=covid.iloc[:,-1]"
   ]
  },
  {
   "cell_type": "code",
   "execution_count": 5,
   "id": "33f66e62",
   "metadata": {},
   "outputs": [],
   "source": [
    "#Las variables que son categoricas procedemos a convertirlas en variables numéricas \n",
    "x=pd.get_dummies(x)"
   ]
  },
  {
   "cell_type": "code",
   "execution_count": 6,
   "id": "8eed3ad7",
   "metadata": {},
   "outputs": [],
   "source": [
    "#Procederemos a dividir el conjunto de datos en grupos para entrenar y probar a la maquina\n",
    "x_train, x_test, y_train, y_test = train_test_split(x,y, test_size=0.2, random_state=30)\n"
   ]
  },
  {
   "cell_type": "code",
   "execution_count": 7,
   "id": "55e7dbeb",
   "metadata": {},
   "outputs": [
    {
     "data": {
      "text/plain": [
       "DecisionTreeClassifier()"
      ]
     },
     "execution_count": 7,
     "metadata": {},
     "output_type": "execute_result"
    }
   ],
   "source": [
    "#Se crea un modelo de arbol de decision, se entrena y posteriormente se prueba con los siguientes metodos\n",
    "clf= DecisionTreeClassifier()\n",
    "clf.fit(x_train, y_train)"
   ]
  },
  {
   "cell_type": "code",
   "execution_count": 8,
   "id": "0de345f6",
   "metadata": {},
   "outputs": [
    {
     "name": "stdout",
     "output_type": "stream",
     "text": [
      "Accuracy: 86.61%\n"
     ]
    }
   ],
   "source": [
    "#Se procede a realizar la evaluacion del modelo con los datos de prueba \n",
    "Score = clf.score(x_test, y_test)\n",
    "print(\"Accuracy: %.2f%%\" %(Score *100.0))"
   ]
  },
  {
   "cell_type": "code",
   "execution_count": null,
   "id": "4f8e5674",
   "metadata": {},
   "outputs": [],
   "source": []
  }
 ],
 "metadata": {
  "kernelspec": {
   "display_name": "Python 3 (ipykernel)",
   "language": "python",
   "name": "python3"
  },
  "language_info": {
   "codemirror_mode": {
    "name": "ipython",
    "version": 3
   },
   "file_extension": ".py",
   "mimetype": "text/x-python",
   "name": "python",
   "nbconvert_exporter": "python",
   "pygments_lexer": "ipython3",
   "version": "3.9.13"
  }
 },
 "nbformat": 4,
 "nbformat_minor": 5
}
