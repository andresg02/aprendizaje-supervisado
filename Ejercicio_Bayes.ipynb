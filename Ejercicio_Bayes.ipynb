{
 "cells": [
  {
   "cell_type": "code",
   "execution_count": 1,
   "id": "a2e770b1",
   "metadata": {},
   "outputs": [],
   "source": [
    "import pandas as pd "
   ]
  },
  {
   "cell_type": "code",
   "execution_count": 2,
   "id": "d6219c9f",
   "metadata": {},
   "outputs": [],
   "source": [
    "p_fatiga_given_covid=0.80\n",
    "p_tos_seca_given_covid = 0.60\n",
    "p_dificultad_respirar_given_covid =0.55\n",
    "p_dolor_garganta_given_covid = 0.50\n",
    "p_dolor_cabeza_given_covid =0.55\n",
    "p_dolor_cuerpo_given_covid =0.50\n",
    "p_escalofrios_given_covid =0.45\n",
    "p_secrecion_nasal_given_covid =0.30\n",
    "p_perdida_de_sentido_olfato_gusto_given_covid =0.50\n",
    "p_fiebre_given_covid =0.70\n",
    "p_dolor_pecho_given_covid =0.35\n",
    "\n"
   ]
  },
  {
   "cell_type": "code",
   "execution_count": 3,
   "id": "c03b14be",
   "metadata": {},
   "outputs": [],
   "source": [
    "#Definimos a prevalencia de covid\n",
    "prev=0.05"
   ]
  },
  {
   "cell_type": "code",
   "execution_count": 4,
   "id": "d0463e3b",
   "metadata": {},
   "outputs": [],
   "source": [
    "#Definimos la sintomologia de los pacientes\n",
    "sint=[\"Fatiga\",\"Tos seca\",\" Dificultad para respirar\", \"Dolor de garganta\",\"Dolor de cabeza\",\"Dolor de cuerpo\",\"Escalofrios\",\"Secrecion nasal\",\"Perdida del sentido del olfato o del gusto\",\"Fiebre\", \"Dolor de pecho\"]"
   ]
  },
  {
   "cell_type": "code",
   "execution_count": 5,
   "id": "a3e95c5b",
   "metadata": {},
   "outputs": [],
   "source": [
    "#Se calcula la probabilidad de que el paciente tenga covid de acuerdo a los sintomas que presente\n",
    "p_sint_given_covid = p_fatiga_given_covid * p_tos_seca_given_covid * p_dificultad_respirar_given_covid *\\\n",
    "                     p_dolor_garganta_given_covid * p_dolor_cabeza_given_covid * p_dolor_cuerpo_given_covid *\\\n",
    "                     p_escalofrios_given_covid * p_secrecion_nasal_given_covid * p_perdida_de_sentido_olfato_gusto_given_covid *\\\n",
    "                     p_fiebre_given_covid * p_dolor_pecho_given_covid\n"
   ]
  },
  {
   "cell_type": "code",
   "execution_count": 6,
   "id": "df491529",
   "metadata": {},
   "outputs": [],
   "source": [
    "#Vamos a asumir que hay baja probabilidad de presentar estos sintomas\n",
    "p_sint_given_no_covid=0.05 ** 11\n",
    "\n",
    "p_sint =p_sint_given_covid * prev + p_sint_given_no_covid *(1 - prev)\n",
    "\n",
    "prev_given_sint=p_sint_given_covid*prev/p_sint"
   ]
  },
  {
   "cell_type": "code",
   "execution_count": 7,
   "id": "07a00a46",
   "metadata": {},
   "outputs": [
    {
     "name": "stdout",
     "output_type": "stream",
     "text": [
      "E porcentaje de probabilidad de que el paciente tenga covid es de:0.9999999998454578\n"
     ]
    }
   ],
   "source": [
    "print(f\"E porcentaje de probabilidad de que el paciente tenga covid es de:{prev_given_sint}\")"
   ]
  },
  {
   "cell_type": "code",
   "execution_count": null,
   "id": "c911bd6f",
   "metadata": {},
   "outputs": [],
   "source": []
  }
 ],
 "metadata": {
  "kernelspec": {
   "display_name": "Python 3 (ipykernel)",
   "language": "python",
   "name": "python3"
  },
  "language_info": {
   "codemirror_mode": {
    "name": "ipython",
    "version": 3
   },
   "file_extension": ".py",
   "mimetype": "text/x-python",
   "name": "python",
   "nbconvert_exporter": "python",
   "pygments_lexer": "ipython3",
   "version": "3.9.13"
  }
 },
 "nbformat": 4,
 "nbformat_minor": 5
}
